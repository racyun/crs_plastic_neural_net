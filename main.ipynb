{
 "cells": [
  {
   "cell_type": "markdown",
   "id": "6e8af4e7",
   "metadata": {},
   "source": [
    "# Simulated dataset on coordinated reset stimulation of homogeneous and inhomogeneous networks of excitatory leaky integrate-and-fire neurons with spike-timing-dependent plasticity"
   ]
  },
  {
   "cell_type": "markdown",
   "id": "8be16094",
   "metadata": {},
   "source": [
    "This repository contains the code to generate the simulated data analyzed in Ref. [1] and additional analysis.\n",
    "\n",
    "[1] Kromer, J. A. and Tass, P. A. (2023). Sequences and their shuffling may \n",
    "crucially impact coordinated reset stimulation – a theoretical study. submitted"
   ]
  },
  {
   "cell_type": "markdown",
   "id": "95cd76c8",
   "metadata": {},
   "source": [
    "## Overview"
   ]
  },
  {
   "cell_type": "markdown",
   "id": "c10d0130",
   "metadata": {},
   "source": [
    "### Content"
   ]
  },
  {
   "cell_type": "markdown",
   "id": "679dfe33",
   "metadata": {},
   "source": [
    "- CRS ... contains code for simulations of CRS\n",
    "    - __CRS_non_shuffled.py__ ... code for simulations of non-shuffled CRS\n",
    "    - __CRS_Tshuffle.py__ ... code for simulations of shuffled CRS with different shuffle periods.\n",
    "- figures ... contains code for data analysis and generation of the figures presented below\n",
    "    - Fig1 ... code and data for Figure 1\n",
    "        - data ... data files used to generate the figures\n",
    "            - __KuramotoOrderParameter_NETWORK_TYPE_mw_MWINIT_seed_SEED.npy__ ... trajectory of Kuramoto order parameter for NETWORK_TYPE = \"inhomogeneous_network\" or \"homogeneous_network,\" initial mean synaptic weights MWINIT = 0.0, 0.2, 0.4, 0.6, and SEED =12.\n",
    "            - __NETWORK_TYPE_mwTrajectory_w_MWINIT_seed_SEED.npy__ ... corresponding trajectories of mean synaptic weight.\n",
    "            - NETWORK_TYPE_seed_SEED_0_sec ... backups containing results of simulation at t=0 sec\n",
    "                - __cMatrix.npz__ ... sparse matrix containing values of all synaptic weights\n",
    "                - __synConnections.npz__ ... this corresponds to the adjacency matrix containing 1 for exc. connections and -1 for inh. connection\n",
    "                - __delayedSpikingNeurons.npy__ ... list af spikes that are traveling to postsynaptic neurons\n",
    "                - __lastSpikeTimeStep.npy__ ... latest spike times of neurons (imported to accurately continue synaptic weight dynamics from backup file)\n",
    "                - __evenPriorLastSpikeTimeStep.npy__ ... second to latest spike times of neurons (imported to accurately continue synaptic weight dynamics from backup file)\n",
    "                - __STNCenter.npy__ ... center coordinates of simulated neurons \n",
    "                - __GPeCenter.npy__ ... center coordinates of inhibitory neurons (this can be neglected as only excitatory neurons were used for the presented simulations)\n",
    "                - __npRandomState.pickle__ ... state of pseudo random number generator at backup time\n",
    "                - __systemState.npy__ ... contains state of state variables at backup times\n",
    "        - __generate_data_from_simulation_output.py__ ... Python script to obtain data for Figure 1 from simulations \n",
    "        - __generate_Fig1.py__ ... python script to generate Figure 1 from the data obtained using generate_data_from_simulation_output.py\n",
    "        - __Figure_1.png__ ... png file of Figure 1 generated using generate_Fig1.py\n",
    "    - Fig2 .. code and data for Figure 2\n",
    "        - data ... data files used to generate the figures\n",
    "            - __dic_mean_Weights_STIM_TYPE_NETWORK_TYPE.pickle__ … contains lists of mean synaptic weights for simulated network and CR sequence realizations for STIM_TYPE=init, nonShuffled, or Tshuffle_X and NETWORK_TYPE=homogeneous or inhomogeneous. X indicates the shuffle period and attains values 01 (100 ms), 10 (10 sec), or 1800 (30 min).\n",
    "            - cMatrix_conMatrix … This where weight matrices and adjacency matrices from simulation data are saved when running “python generate_data_from_simulation_output.py 2_calculate_average_mean_weight”\n",
    "        - __generate_data_from_simulation_output.py__ python script to obtain data for Figure 2 from simulations\n",
    "        - __generate_Fig2.py__ ... python script to generate Figure 2 from the data obtained using FIXME\n",
    "        - __Figure_2.png__ ... png file of Figure 2 generated using generate_Fig2.py\n",
    "- functions\n",
    "    - __functions_genNetwork.py__ ... contains functions for the generation of the\n",
    "      different networks of synaptic connections\n",
    "    - __functions_pars.py__ ... contains \"gen_Parameter_set_Sequence_Paper( initialSeed ) \n",
    "      which generates a dictionary with the system's parameters used in all simulations\n",
    "    - __functions_sim.py__ … contains a variety of functions that are called when running simulations.\n",
    "    - __functions_stim.py__ … contains functions specifying the CR sequence, stimulus wave form, and other aspects of CRS.\n",
    "    - __spatial_stimulus_profile.py__ … contain the functions “getWarray( sites, positions, stim_par )” which calculates the relative strength by which neurons at “positions” experience a stimulus delivered to “sites”.\n",
    "- run_sim\n",
    "    - __1_run.py__ ... for generating shell commands to run simulations for the synchronized states\n",
    "    - __2_run.py__ … for generating shell commands to run long simulations for different initial mean synaptic weights Corresponding trajectories are plotted in Figure 1.\n",
    "    - __3_run.py__ … for generating shell commands to run simulation on shuffled and non-shuffled CRS for homogeneous and inhomogeneous networks of synaptic connections\n",
    "    - __4_run.py__ … for generating shell commands to run simulations on shuffled CRS for intermediate networks\n",
    "- synch_states\n",
    "    - __get_stationary_states_arange_x_inhomogeneous_network.py__ … simulations of synchronized states for inhomogeneous networks\n",
    "    - __get_stationary_states_arange_x_homogeneous_network.py__ … simulations for homogeneous networks\n",
    "    - __get_stationary_states_arange_x_intermediate_network.py__ … simulations of intermediate networks\n",
    "- multistability ... contains python scripts for simulations of the trajectories in Figure 1\n",
    "    - __get_multistability_arange_x_inhomogeneous_network.py__ … simulations of long trajectories for different initial mean synaptic weights for inhomogeneous networks for Figure 1\n",
    "    - __get_multistability_arange_x_homogeneous_network.py__ …. simulations of long trajectories for different initial mean synaptic weights for homogeneous networks shown in Figure 1\n",
    "- images ... contains images used to explain the code in \"main.ipynb\"\n",
    "    - __typical_output.png__\n",
    "- relaxation_after_stimulation … contains code for simulating the network after cessation of stimulation\n",
    "    - __less_relaxation.py__ … to perform simulations that start at a backup and simulate network dynamics in the absence of stimulation\n"
   ]
  },
  {
   "cell_type": "markdown",
   "id": "92f8089a",
   "metadata": {},
   "source": [
    "### Network structure"
   ]
  },
  {
   "cell_type": "markdown",
   "id": "cd0655cb",
   "metadata": {},
   "source": [
    "\"functions_genNetwork.py\" contains functions specifying the synaptic\n",
    "connectivity. The matrix \"synConnections\" acts as an adjacency matrix.\n",
    "Entries +1 indicate an excitatory connection and entries -1 an inhibitory \n",
    "one.\n",
    "\n",
    "The network contains excitatory (STN) and inhibitory neurons (GPe), \n",
    "however in the current version only excitatory neurons are considered. \n",
    "This is done by decoupling the two (\"dummy\") inhibitory neurons from the rest\n",
    "of the network (see \"functions_genNetwork.py\")."
   ]
  },
  {
   "cell_type": "markdown",
   "id": "61527a10",
   "metadata": {},
   "source": [
    "### Simulation scripts"
   ]
  },
  {
   "cell_type": "markdown",
   "id": "93877b2e",
   "metadata": {},
   "source": [
    "Simulation scripts generate output every 20 secs including an array of \n",
    "spike times \"spikeTimes_T_sec.npy\", a trajectory of the mean synaptic weight \n",
    "(averaged over all possible connections, NOT all implemented connections) \n",
    "\"meanWeightTimeSeries_T_sec.npy\", and, if not specified otherwise, a backup directory \".../T_sec\" from which other simulations\n",
    "can be started. Here, T is an integer specifying the time in seconds. Spike times\n",
    "and mean weight trajectories contain data for the 20 sec prior to T. In both files, \n",
    "time is measured in time steps (currently 0.1 ms). \n",
    "Typical output looks as follows:\n",
    "<div>\n",
    "<img src=\"images/typical_output.png\" width=\"250\"/>\n",
    "</div>\n",
    "The file parameterSet.npy contains system parameters. Additionally, \n",
    "backup folder names and times will be saved in \"listOfBackupTimeSteps.txt\". \n",
    "The final output will have the identifier \"FinalBackup\" instead of \"T_sec\"."
   ]
  },
  {
   "cell_type": "markdown",
   "id": "b75e5f3a",
   "metadata": {},
   "source": [
    "## How to run simulations?"
   ]
  },
  {
   "cell_type": "markdown",
   "id": "d45a88b2",
   "metadata": {},
   "source": [
    "### Simulations of synchronized states"
   ]
  },
  {
   "cell_type": "markdown",
   "id": "461dbee7",
   "metadata": {},
   "source": [
    "We simulated of leaky integrate-and-fire neurons in the synchronized state. \n",
    "Corresponding commands for inhomogeneous and homogeneous networks, as well as intermediate networks can be generated using the script \"1_run.py\" in folder <code>run_sim</code>. Simulations are performed for different seeds.\n",
    "\n",
    "To get the shell commands for running simulations run"
   ]
  },
  {
   "cell_type": "markdown",
   "id": "d216ba35",
   "metadata": {},
   "source": [
    "python 1_run.py NETWORK_TYPE ,"
   ]
  },
  {
   "cell_type": "markdown",
   "id": "e8c016b5",
   "metadata": {},
   "source": [
    "where NETWORK_TYPE = inhomogeneous_network, homogeneous_network, or intermediate_network."
   ]
  },
  {
   "cell_type": "markdown",
   "id": "7ddb1d65",
   "metadata": {},
   "source": [
    "### Simulations to check multistability (Figure 1)"
   ]
  },
  {
   "cell_type": "markdown",
   "id": "eeed7f11",
   "metadata": {},
   "source": [
    "We simulated of leaky integrate-and-fire neurons for different mean synaptic weights at t=0. \n",
    "Corresponding commands for inhomogeneous and homogeneous networks can be generated using the script \"2_run.py\" in folder <code>run_sim</code>. Simulations are performed for different seeds.\n",
    "\n",
    "To get the shell commands for running simulations run"
   ]
  },
  {
   "cell_type": "markdown",
   "id": "ef2046e9",
   "metadata": {},
   "source": [
    "python 2_run.py NETWORK_TYPE ,"
   ]
  },
  {
   "cell_type": "markdown",
   "id": "57bac105",
   "metadata": {},
   "source": [
    "where multistability_NETWORK_TYPE = multistability_inhomogeneous or multistability_homogeneous."
   ]
  },
  {
   "cell_type": "markdown",
   "id": "c967fc4d",
   "metadata": {},
   "source": [
    "Output will be saved in dataDirectory + '/homogeneous_network/multistability' \n",
    "by default."
   ]
  },
  {
   "cell_type": "markdown",
   "id": "2fa42762",
   "metadata": {},
   "source": [
    "#### Generation of data for Figure 1"
   ]
  },
  {
   "cell_type": "markdown",
   "id": "2077bfdd",
   "metadata": {},
   "source": [
    "To generate the trajectories shown in Figure 1, us the script\n",
    "<code>\"generate_data_from_simulation_output.py\"</code> in folder figures/Fig1. First run <code>python generate_data_from_simulation_output.py get_traj_meanWeight_spikeTrain_multistability NETWORK_TYPE</code>."
   ]
  },
  {
   "cell_type": "markdown",
   "id": "8f8c91ee",
   "metadata": {},
   "source": [
    "This will generate the files \"NETWORK_TYPE_mwTrajectory_w_MWINIT_seed_12.npy\" \n",
    "and \"NETWORK_TYPE_spikeTrain_w_MWINIT_seed_12.npy\" in the folder figures/Fig1 where MWINIT is the initial \n",
    "mean weight at t=0."
   ]
  },
  {
   "cell_type": "markdown",
   "id": "4f170742",
   "metadata": {},
   "source": [
    "Once these files have been generated, the trajectories of the corresponding \n",
    "Kuramoto parameter can be generated using <code>python generate_data_from_simulation_output.py calculate_time_trace_of_Kuramoto_parameter_multistability_mw</code>. This will generate the files <code>KuramotoOrderParameter_NETWORK_TYPE_mw_MWINIT_seed_12.npy</code>."
   ]
  },
  {
   "cell_type": "markdown",
   "id": "ec9c5a33",
   "metadata": {},
   "source": [
    "<div>\n",
    "<img src=\"figures/Fig1/Figure_1.png\" width=\"400\"/>\n",
    "</div>\n",
    "Figure 1 was generated using these data with the script \n",
    "<code>generate_Fig1.py</code>. "
   ]
  },
  {
   "cell_type": "markdown",
   "id": "dc4c22d7",
   "metadata": {},
   "source": [
    "### Simulations of coordinated reset simulation"
   ]
  },
  {
   "cell_type": "markdown",
   "id": "92b53ce4",
   "metadata": {},
   "source": [
    "To study the effect of CR stimulation, we used the backup files \n",
    "for networks from section \"Simulations of synchronized states\" \n",
    "at 3000 sec. We delivered CR stimulation to four stimulation sites.\n",
    "\n",
    "#### Simulations for \"homogeneous_network\",\"inhomogeneous_network\" can be started using the commands in <code>3_run.py</code>. To this end, type"
   ]
  },
  {
   "cell_type": "markdown",
   "id": "ecc0d4c9",
   "metadata": {},
   "source": [
    "python 3_run.py STIM_MODE "
   ]
  },
  {
   "cell_type": "markdown",
   "id": "d2566fce",
   "metadata": {},
   "source": [
    "STIM_MODE describes what kind of scenario is simulated. \n",
    "- Use __STIM_MODE = CRS_Tshuffle__ to simulate shuffled CR with shuffling\n",
    "periods 0.1 sec, 10.0 sec, and 1800.0 sec. These simulations start at the backups generated in section \"Simulations of synchronized states\". Make sure that the latter simulations have finished and adjust the file paths in \"3_run.py\" if necessary.\n",
    "- Use __STIM_MODE = CRS_non_shuffled__ to simulation non-shuffled CR with sequences: 'I_II_III_IV','I_II_IV_III','I_III_II_IV','I_III_IV_II','I_IV_II_III','I_IV_III_II'. These simulations also start at the backups as described for STIM_MODE = CRS_Tshuffle.\n",
    "- Use __STIM_MODE = relaxation_after_shuffled_CRS__ to simulate the relaxation after shuffled CR. These simulations start from the backup generated by the case of STIM_MODE = CRS_Tshuffle after 10200 sec. Adjust the file paths in 3_run.py if necessary.\n",
    "- Use __STIM_MODE = relaxation_after_non_shuffled_CR__ to simulation the relaxation after non-shuffled CR. These simulations start from the backup generated by the case of STIM_MODE = CRS_non_shuffled after 10200 sec. Adjust the paths in 3_run.py if necessary. "
   ]
  },
  {
   "cell_type": "markdown",
   "id": "3115f4ee",
   "metadata": {},
   "source": [
    "#### Simulations for \"intermediate networks\" can be started using the commands in 4_run.py. To this end, type"
   ]
  },
  {
   "cell_type": "markdown",
   "id": "423f4bc9",
   "metadata": {},
   "source": [
    "python 4_run.py STIM_MODE"
   ]
  },
  {
   "cell_type": "markdown",
   "id": "c8a9a23e",
   "metadata": {},
   "source": [
    "STIM_MODE describes what kind of scenario is simulated\n",
    "- Use  __STIM_MODE = CRS_Tshuffle_intermediate_networks__ to simulate shuffled CRS with shuffling\n",
    "periods 0.1 sec, 10.0 sec, and 1800.0 sec for heterogeneity parameters H=0, 0.2, 0.4, 0.6, 0.8, 1.0. These simulations start at the backups generated in section \"Simulations of synchronized states\". Make sure that the latter simulations have finished and adjust the file paths in \"4_run.py\" if necessary.\n",
    "- Use __STIM_MODE = relaxation_after_shuffled_CRS_intermediate_networks__ to simulate the relaxation after shuffled CR. These simulations start from the backup generated by the case of STIM_MODE = CRS_Tshuffle_intermediate_networks after 10200 sec. Adjust the paths in 4_run.py if necessary."
   ]
  },
  {
   "cell_type": "markdown",
   "id": "36f928d0",
   "metadata": {},
   "source": [
    "#### Generation of Figure 2"
   ]
  },
  {
   "cell_type": "markdown",
   "id": "4a118980",
   "metadata": {},
   "source": [
    "To generate the simulated data shown in Figure 2, us the script\n",
    "<code>\"generate_data_from_simulation_output.py\"</code> in folder data/Fig2. "
   ]
  },
  {
   "cell_type": "markdown",
   "id": "86bb7281",
   "metadata": {},
   "source": [
    "This will copy weight and adjacency matrices from simulations to folder \"figures/Fig2/data/cMatrix_conMatrix\" \n",
    "and create dictionaries with mean synaptic weights in folder \"figures/Fig2/data\"."
   ]
  },
  {
   "cell_type": "markdown",
   "id": "7c8158ba",
   "metadata": {},
   "source": [
    "<div>\n",
    "<img src=\"figures/Fig2/Figure_2.png\" width=\"600\"/>\n",
    "</div>\n",
    "Figure 2 was generated using these data with the script \n",
    "<code>generate_Fig2.py</code>. "
   ]
  }
 ],
 "metadata": {
  "kernelspec": {
   "display_name": "Python 3",
   "language": "python",
   "name": "python3"
  },
  "language_info": {
   "codemirror_mode": {
    "name": "ipython",
    "version": 3
   },
   "file_extension": ".py",
   "mimetype": "text/x-python",
   "name": "python",
   "nbconvert_exporter": "python",
   "pygments_lexer": "ipython3",
   "version": "3.7.3"
  }
 },
 "nbformat": 4,
 "nbformat_minor": 5
}

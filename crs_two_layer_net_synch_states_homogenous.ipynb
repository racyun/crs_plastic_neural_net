{
  "nbformat": 4,
  "nbformat_minor": 0,
  "metadata": {
    "colab": {
      "provenance": []
    },
    "kernelspec": {
      "name": "python3",
      "display_name": "Python 3"
    },
    "language_info": {
      "name": "python"
    }
  },
  "cells": [
    {
      "cell_type": "code",
      "execution_count": 11,
      "metadata": {
        "colab": {
          "base_uri": "https://localhost:8080/"
        },
        "id": "DWlPsF0oszG2",
        "outputId": "2c3de88e-5029-4cbb-f0a8-bdea988100ce"
      },
      "outputs": [
        {
          "output_type": "stream",
          "name": "stdout",
          "text": [
            "Drive already mounted at /content/drive; to attempt to forcibly remount, call drive.mount(\"/content/drive\", force_remount=True).\n"
          ]
        }
      ],
      "source": [
        "import numpy as np\n",
        "from google.colab import drive\n",
        "import torch\n",
        "import torch.nn as nn\n",
        "import torch.optim as optim\n",
        "drive.mount('/content/drive')\n",
        "\n",
        "FOLDERNAME = 'Fusion AI/Rachel FusionAI Project/'\n",
        "import sys\n",
        "sys.path.append('/content/drive/My Drive/{}'.format(FOLDERNAME))\n",
        "\n",
        "from Experiments.data import load_data\n",
        "from Experiments.train import ThreeLayerNet, train_one_epoch\n",
        "from Experiments.model import ThreeLayerNet"
      ]
    },
    {
      "cell_type": "code",
      "source": [
        "base_dir = '/content/drive/My Drive/Fusion AI/Rachel FusionAI Project/Experiments/synch_states_homogeneous/'\n",
        "train_loader, test_loader = load_data(base_dir)"
      ],
      "metadata": {
        "colab": {
          "base_uri": "https://localhost:8080/"
        },
        "id": "YBLklGhRhlO0",
        "outputId": "fa6a0908-aeb4-416d-c8e6-998f4b61fc25"
      },
      "execution_count": 12,
      "outputs": [
        {
          "output_type": "stream",
          "name": "stdout",
          "text": [
            "(65598, 257)\n",
            "(65598, 257)\n"
          ]
        }
      ]
    },
    {
      "cell_type": "code",
      "source": [
        "model = ThreeLayerNet()\n",
        "criterion = nn.MSELoss()\n",
        "optimizer = optim.Adam(model.parameters(), lr=0.001)"
      ],
      "metadata": {
        "id": "yzg1AxuxZSEO"
      },
      "execution_count": 13,
      "outputs": []
    },
    {
      "cell_type": "code",
      "source": [
        "epochs = 10  # Adjust based on your needs\n",
        "for epoch in range(epochs):\n",
        "    print(f\"Epoch {epoch + 1}\")\n",
        "    train_loss = train_one_epoch(epoch, train_loader, optimizer, model, criterion)  # You can add a tensorboard writer if needed\n",
        "    print(f\"Loss after epoch {epoch + 1}: {train_loss}\")"
      ],
      "metadata": {
        "id": "4oRWiH8uKkDZ",
        "colab": {
          "base_uri": "https://localhost:8080/"
        },
        "outputId": "8037d272-aba3-4d29-c199-2d8f3368c428"
      },
      "execution_count": null,
      "outputs": [
        {
          "output_type": "stream",
          "name": "stdout",
          "text": [
            "Epoch 1\n",
            "  batch 1000 loss: 85502.0822109375\n",
            "Loss after epoch 1: 85502.0822109375\n",
            "Epoch 2\n",
            "  batch 1000 loss: 76358.83759375\n",
            "Loss after epoch 2: 76358.83759375\n",
            "Epoch 3\n",
            "  batch 1000 loss: 74963.51908203126\n",
            "Loss after epoch 3: 74963.51908203126\n",
            "Epoch 4\n",
            "  batch 1000 loss: 74641.91112109376\n",
            "Loss after epoch 4: 74641.91112109376\n",
            "Epoch 5\n",
            "  batch 1000 loss: 74518.751640625\n",
            "Loss after epoch 5: 74518.751640625\n",
            "Epoch 6\n"
          ]
        }
      ]
    },
    {
      "cell_type": "code",
      "source": [],
      "metadata": {
        "id": "2qpukEkVt0YG"
      },
      "execution_count": null,
      "outputs": []
    }
  ]
}
{
  "nbformat": 4,
  "nbformat_minor": 0,
  "metadata": {
    "colab": {
      "provenance": []
    },
    "kernelspec": {
      "name": "python3",
      "display_name": "Python 3"
    },
    "language_info": {
      "name": "python"
    }
  },
  "cells": [
    {
      "cell_type": "code",
      "execution_count": 3,
      "metadata": {
        "colab": {
          "base_uri": "https://localhost:8080/"
        },
        "id": "DWlPsF0oszG2",
        "outputId": "8bb0dfcc-8687-417d-abbf-aaa32bf1c08c"
      },
      "outputs": [
        {
          "output_type": "stream",
          "name": "stdout",
          "text": [
            "Drive already mounted at /content/drive; to attempt to forcibly remount, call drive.mount(\"/content/drive\", force_remount=True).\n"
          ]
        }
      ],
      "source": [
        "import numpy as np\n",
        "import sys\n",
        "import os\n",
        "import matplotlib.pyplot as plt\n",
        "from google.colab import drive\n",
        "from tqdm import tqdm\n",
        "from sklearn.model_selection import train_test_split\n",
        "import torch\n",
        "from torch.utils.data import TensorDataset, DataLoader\n",
        "import torch.nn as nn\n",
        "import torch.optim as optim\n",
        "drive.mount('/content/drive')\n",
        "\n",
        "FOLDERNAME = 'Fusion AI/Rachel FusionAI Project/'\n",
        "import sys\n",
        "sys.path.append('/content/drive/My Drive/{}'.format(FOLDERNAME))\n",
        "\n",
        "from Experiments.data import load_data\n",
        "from Experiments.train import ThreeLayerNet, train_one_epoch\n",
        "from Experiments.model import ThreeLayerNet"
      ]
    },
    {
      "cell_type": "code",
      "source": [
        "base_dir = '/content/drive/My Drive/Fusion AI/Rachel FusionAI Project/Experiments/synch_states_homogeneous/'\n",
        "train_loader, test_loader = load_data(base_dir)"
      ],
      "metadata": {
        "colab": {
          "base_uri": "https://localhost:8080/"
        },
        "id": "YBLklGhRhlO0",
        "outputId": "cb593d21-5572-4ed5-890b-16a66a6778a3"
      },
      "execution_count": 4,
      "outputs": [
        {
          "output_type": "stream",
          "name": "stdout",
          "text": [
            "(65598, 257)\n",
            "(65598, 257)\n"
          ]
        }
      ]
    },
    {
      "cell_type": "code",
      "source": [
        "model = ThreeLayerNet()\n",
        "criterion = nn.MSELoss()\n",
        "optimizer = optim.Adam(model.parameters(), lr=0.001)"
      ],
      "metadata": {
        "id": "yzg1AxuxZSEO"
      },
      "execution_count": 5,
      "outputs": []
    },
    {
      "cell_type": "code",
      "source": [
        "epochs = 10  # Adjust based on your needs\n",
        "for epoch in range(epochs):\n",
        "    print(f\"Epoch {epoch + 1}\")\n",
        "    train_loss = train_one_epoch(epoch, train_loader, optimizer, model, criterion)  # You can add a tensorboard writer if needed\n",
        "    print(f\"Loss after epoch {epoch + 1}: {train_loss}\")"
      ],
      "metadata": {
        "id": "4oRWiH8uKkDZ",
        "colab": {
          "base_uri": "https://localhost:8080/"
        },
        "outputId": "3887e3b1-f09e-4358-93a5-b1dd250cadc6"
      },
      "execution_count": 6,
      "outputs": [
        {
          "output_type": "stream",
          "name": "stdout",
          "text": [
            "Epoch 1\n",
            "  batch 1000 loss: 85540.8248984375\n",
            "Loss after epoch 1: 85540.8248984375\n",
            "Epoch 2\n",
            "  batch 1000 loss: 76324.67271484375\n",
            "Loss after epoch 2: 76324.67271484375\n",
            "Epoch 3\n",
            "  batch 1000 loss: 74945.14503125\n",
            "Loss after epoch 3: 74945.14503125\n",
            "Epoch 4\n",
            "  batch 1000 loss: 74618.16854296875\n",
            "Loss after epoch 4: 74618.16854296875\n",
            "Epoch 5\n",
            "  batch 1000 loss: 74320.01236328125\n",
            "Loss after epoch 5: 74320.01236328125\n",
            "Epoch 6\n",
            "  batch 1000 loss: 74165.62130859375\n",
            "Loss after epoch 6: 74165.62130859375\n",
            "Epoch 7\n",
            "  batch 1000 loss: 74008.02497265625\n",
            "Loss after epoch 7: 74008.02497265625\n",
            "Epoch 8\n",
            "  batch 1000 loss: 73981.631484375\n",
            "Loss after epoch 8: 73981.631484375\n",
            "Epoch 9\n",
            "  batch 1000 loss: 73881.8414375\n",
            "Loss after epoch 9: 73881.8414375\n",
            "Epoch 10\n",
            "  batch 1000 loss: 73697.72903125\n",
            "Loss after epoch 10: 73697.72903125\n"
          ]
        }
      ]
    }
  ]
}